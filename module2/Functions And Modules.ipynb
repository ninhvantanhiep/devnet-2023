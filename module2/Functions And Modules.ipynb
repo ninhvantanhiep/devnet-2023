{
 "cells": [
  {
   "attachments": {},
   "cell_type": "markdown",
   "metadata": {},
   "source": [
    "FUNCTIONS"
   ]
  },
  {
   "cell_type": "code",
   "execution_count": null,
   "metadata": {},
   "outputs": [],
   "source": [
    "def hello():\n",
    "    print('hello world')\n",
    "    print()\n",
    "    print('welcome to devnet course')\n",
    "    print()\n",
    "    print('we are learning functions and modules')"
   ]
  },
  {
   "cell_type": "code",
   "execution_count": null,
   "metadata": {},
   "outputs": [],
   "source": [
    "hello()"
   ]
  },
  {
   "cell_type": "code",
   "execution_count": null,
   "metadata": {},
   "outputs": [],
   "source": [
    "def hello(name):\n",
    "    print('Hello ', name)\n",
    "    print('Nice to meet you')"
   ]
  },
  {
   "cell_type": "code",
   "execution_count": null,
   "metadata": {},
   "outputs": [],
   "source": [
    "hello('Adam')"
   ]
  },
  {
   "cell_type": "code",
   "execution_count": null,
   "metadata": {},
   "outputs": [],
   "source": [
    "def hello(first_name, last_name):\n",
    "    print('Hello ', first_name, last_name)\n",
    "    print('Nice to meet you')"
   ]
  },
  {
   "cell_type": "code",
   "execution_count": null,
   "metadata": {},
   "outputs": [],
   "source": [
    "hello('Trung', 'Nguyen')"
   ]
  },
  {
   "cell_type": "code",
   "execution_count": null,
   "metadata": {},
   "outputs": [],
   "source": [
    "hello('Nguyen', 'Trung')"
   ]
  },
  {
   "cell_type": "code",
   "execution_count": null,
   "metadata": {},
   "outputs": [],
   "source": [
    "hello(first_name='Trung', last_name='Nguyen')"
   ]
  },
  {
   "cell_type": "code",
   "execution_count": null,
   "metadata": {},
   "outputs": [],
   "source": [
    "hello(last_name='Nguyen', first_name='Trung')"
   ]
  },
  {
   "cell_type": "code",
   "execution_count": null,
   "metadata": {},
   "outputs": [],
   "source": [
    "# function name: build_vrf_configuration\n",
    "# params: vrf_name, rd, rt_import, rt_export\n",
    "# build_vrf_configuration('vietcombank', '65501:101', '65501:102', '65501:103')\n",
    "\n",
    "# print output:\n",
    "    # vrf vietcombank\n",
    "    # rd 65501:101\n",
    "    # address-family ipv4\n",
    "    # route-target import 65501:102\n",
    "    # route-target export 65501:103\n",
    "\n"
   ]
  },
  {
   "cell_type": "code",
   "execution_count": null,
   "metadata": {},
   "outputs": [],
   "source": [
    "def build_vrf_configuration(vrf_name, rd, rt_import, rt_export):\n",
    "    print('vrf ', vrf_name)\n",
    "    print('rd ', rd)\n",
    "    print('address-family ipv4')\n",
    "    print(f'route-target import {rt_import}')\n",
    "    print(f'route-target export {rt_export}')\n",
    "\n",
    "\n",
    "build_vrf_configuration('vietcombank', '65501:101', '65501:102', '65501:103')"
   ]
  },
  {
   "cell_type": "code",
   "execution_count": null,
   "metadata": {},
   "outputs": [],
   "source": [
    "build_vrf_configuration(vrf_name='vietinbank',\n",
    "                        rt_import='1', rt_export='1', rd='65501:102')"
   ]
  },
  {
   "cell_type": "code",
   "execution_count": null,
   "metadata": {},
   "outputs": [],
   "source": [
    "def my_func(a,b,c):\n",
    "    print('before return')\n",
    "    return a * b + c\n",
    "    print('after return')"
   ]
  },
  {
   "cell_type": "code",
   "execution_count": null,
   "metadata": {},
   "outputs": [],
   "source": [
    "a = my_func(2,3,4)"
   ]
  },
  {
   "cell_type": "code",
   "execution_count": null,
   "metadata": {},
   "outputs": [],
   "source": [
    "b = my_func(4,3,2)"
   ]
  },
  {
   "cell_type": "code",
   "execution_count": null,
   "metadata": {},
   "outputs": [],
   "source": [
    "c = my_func(2, c=4, b=3)"
   ]
  },
  {
   "cell_type": "code",
   "execution_count": null,
   "metadata": {},
   "outputs": [],
   "source": [
    "my_func(b=3, a=2, c=4)"
   ]
  },
  {
   "cell_type": "code",
   "execution_count": null,
   "metadata": {},
   "outputs": [],
   "source": [
    "def my_func(a=1,b=1,c=0):\n",
    "    return a * b + c"
   ]
  },
  {
   "cell_type": "code",
   "execution_count": null,
   "metadata": {},
   "outputs": [],
   "source": [
    "print(my_func(2,3,4))\n",
    "print(my_func(2,3))\n",
    "print(my_func(2))\n",
    "print(my_func())"
   ]
  },
  {
   "cell_type": "code",
   "execution_count": null,
   "metadata": {},
   "outputs": [],
   "source": [
    "def build_vrf_configuration(vrf_name, rd, rt_import, rt_export):\n",
    "    return f\"\"\"\n",
    "    vrf {vrf_name}\n",
    "    rd {rd}\n",
    "    address-family ipv4\n",
    "    route-target import {rt_import}\n",
    "    route-target export {rt_export}\n",
    "    \"\"\""
   ]
  },
  {
   "cell_type": "code",
   "execution_count": null,
   "metadata": {},
   "outputs": [],
   "source": [
    "config = build_vrf_configuration('techcombank', '11', '12', '13')\n",
    "print(config)"
   ]
  },
  {
   "cell_type": "code",
   "execution_count": null,
   "metadata": {},
   "outputs": [],
   "source": [
    "def build_vrf_configuration(vrf_name, rd, rt_import='', rt_export=''):\n",
    "    if not rt_import:\n",
    "        rt_import = rd\n",
    "    if not rt_export:\n",
    "        rt_export = rd\n",
    "    \n",
    "    return f\"\"\"\n",
    "    vrf {vrf_name}\n",
    "    rd {rd}\n",
    "    address-family ipv4\n",
    "    route-target import {rt_import}\n",
    "    route-target export {rt_export}\n",
    "    \"\"\"\n",
    "print(build_vrf_configuration('techcombank', '11'))\n",
    "print(build_vrf_configuration('techcombank', '11', '12', '13'))\n",
    "print(build_vrf_configuration('techcombank', '11', '12'))"
   ]
  },
  {
   "attachments": {},
   "cell_type": "markdown",
   "metadata": {},
   "source": [
    "MODULES"
   ]
  },
  {
   "cell_type": "code",
   "execution_count": null,
   "metadata": {},
   "outputs": [],
   "source": [
    "import build_config\n",
    "mb = build_config.build_vrf_configuration('mbank', '15')\n",
    "print(mb)"
   ]
  },
  {
   "cell_type": "code",
   "execution_count": null,
   "metadata": {},
   "outputs": [],
   "source": [
    "from build_config import build_vrf_configuration\n",
    "vib = build_vrf_configuration('vib', '16')\n",
    "print(vib)"
   ]
  },
  {
   "cell_type": "code",
   "execution_count": null,
   "metadata": {},
   "outputs": [],
   "source": [
    "import build_config as bc\n",
    "\n",
    "tpbank = bc.build_vrf_configuration('tpbank', '17')\n",
    "\n",
    "print(tpbank)"
   ]
  },
  {
   "cell_type": "code",
   "execution_count": null,
   "metadata": {},
   "outputs": [],
   "source": [
    "import math\n",
    "print(math.pi)\n",
    "print(math.sin(math.pi/2))"
   ]
  },
  {
   "cell_type": "code",
   "execution_count": null,
   "metadata": {},
   "outputs": [],
   "source": [
    "from math import pi, sin, cos\n",
    "print(pi)\n",
    "print(sin(pi/2))\n"
   ]
  },
  {
   "cell_type": "code",
   "execution_count": null,
   "metadata": {},
   "outputs": [],
   "source": [
    "import math as m\n",
    "print(m.pi)\n",
    "print(m.sin(m.pi/2))"
   ]
  },
  {
   "attachments": {},
   "cell_type": "markdown",
   "metadata": {},
   "source": [
    "NETMIKO"
   ]
  },
  {
   "cell_type": "code",
   "execution_count": null,
   "metadata": {},
   "outputs": [],
   "source": [
    "from netmiko import ConnectHandler\n",
    "\n",
    "router1 = {\n",
    "    'device_type': 'cisco_xr', \n",
    "    'ip': 'sandbox-iosxr-1.cisco.com',\n",
    "    'username': 'admin',\n",
    "    'password': 'C1sco12345',\n",
    "    'port': 22 #optional\n",
    "}"
   ]
  },
  {
   "cell_type": "code",
   "execution_count": null,
   "metadata": {},
   "outputs": [],
   "source": [
    "with ConnectHandler(**router1) as connection:\n",
    "    result = connection.send_command('show run | in user')\n",
    "    print(result)"
   ]
  },
  {
   "cell_type": "code",
   "execution_count": null,
   "metadata": {},
   "outputs": [],
   "source": [
    "config = ['interface loopback210', \n",
    "          'ipv4 address 10.0.0.210/32',\n",
    "          'commit']\n",
    "\n",
    "with ConnectHandler(**router1) as connection:\n",
    "    result = connection.send_config_set(config)\n",
    "    print(result)"
   ]
  },
  {
   "cell_type": "code",
   "execution_count": null,
   "metadata": {},
   "outputs": [],
   "source": [
    "users = ['liemvt4', 'duyva1', 'phuongbh2', 'dangnv20', 'khoahv1', \\\n",
    "         'sonlh6', 'tuannt33', 'phucnh35', 'hungdq27', 'quangdx4', \\\n",
    "         'hiepnvt', 'sonnc', 'ducnm63', 'tamhm6', 'congtd7', \\\n",
    "         'minhlh18', 'thuntm17', 'trangpt67', 'khanhmd', 'giapph1', \\\n",
    "         'linhbm2'\n",
    "         ]\n",
    "\n",
    "\n",
    "config = [f'username {user} password 0 {user}' for user in users] + [f'username {user} group root-lr' for user in users] + ['commit']\n",
    "\n",
    "with ConnectHandler(**router1) as connection:\n",
    "    result = connection.send_config_set(config)\n",
    "    print(result)\n"
   ]
  },
  {
   "cell_type": "code",
   "execution_count": null,
   "metadata": {},
   "outputs": [],
   "source": [
    "with ConnectHandler(\n",
    "    device_type = 'cisco_xr',\n",
    "    ip = 'sandbox-iosxr-1.cisco.com',\n",
    "    username = 'admin',\n",
    "    password = 'C1sco12345',\n",
    "    port = 22\n",
    ") as connection:\n",
    "    result = connection.send_command('show ipv4 interface brief')\n",
    "    print(result)\n"
   ]
  }
 ],
 "metadata": {
  "kernelspec": {
   "display_name": "Python 3",
   "language": "python",
   "name": "python3"
  },
  "language_info": {
   "codemirror_mode": {
    "name": "ipython",
    "version": 3
   },
   "file_extension": ".py",
   "mimetype": "text/x-python",
   "name": "python",
   "nbconvert_exporter": "python",
   "pygments_lexer": "ipython3",
   "version": "3.10.6"
  },
  "orig_nbformat": 4
 },
 "nbformat": 4,
 "nbformat_minor": 2
}
