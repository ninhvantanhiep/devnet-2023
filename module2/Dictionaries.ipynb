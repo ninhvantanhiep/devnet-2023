{
 "cells": [
  {
   "cell_type": "code",
   "execution_count": null,
   "metadata": {},
   "outputs": [],
   "source": [
    "english_vietnamese_dictionary = {\n",
    "    'sun': 'Mat Troi',\n",
    "    'school': 'Truong hoc',\n",
    "    'bus': 'Xe bus',\n",
    "    'ocean': 'Dai Duong',\n",
    "    'sand': 'Cat',\n",
    "    'mother': 'Me',\n",
    "    'father': 'Bo',\n",
    "}\n",
    "\n",
    "english_vietnamese_dictionary"
   ]
  },
  {
   "cell_type": "code",
   "execution_count": null,
   "metadata": {},
   "outputs": [],
   "source": [
    "print(english_vietnamese_dictionary['sun'])\n",
    "print(english_vietnamese_dictionary['mother'])\n",
    "print(english_vietnamese_dictionary['father'])"
   ]
  },
  {
   "cell_type": "code",
   "execution_count": null,
   "metadata": {},
   "outputs": [],
   "source": [
    "print(english_vietnamese_dictionary.get('ocean'))\n",
    "print(english_vietnamese_dictionary['sand'])"
   ]
  },
  {
   "cell_type": "code",
   "execution_count": null,
   "metadata": {},
   "outputs": [],
   "source": [
    "english_vietnamese_dictionary['morning']"
   ]
  },
  {
   "cell_type": "code",
   "execution_count": null,
   "metadata": {},
   "outputs": [],
   "source": [
    "english_vietnamese_dictionary.get('morning', 'Not Available')"
   ]
  },
  {
   "cell_type": "code",
   "execution_count": null,
   "metadata": {},
   "outputs": [],
   "source": [
    "router1 = {\n",
    "    'hostname': 'r1',\n",
    "    'ip': '10.0.0.1',\n",
    "    'username': 'admin',\n",
    "    'password': 'aa###@432r32',\n",
    "    \n",
    "    'loopbacks': [0, 1, 2, 3, 4, 5],\n",
    "    'ospf': {\n",
    "        'process_id': 1, \n",
    "        'router-id': '100.0.0.1',\n",
    "        'area': {\n",
    "            'area_number': 0,\n",
    "            'interfaces': ['GigabitEthernet0', 'GigabiEthernet1', \n",
    "                           'GigabitEthernet2', 'Ten0/0/1', 'Ten0/0/2']\n",
    "        }\n",
    "    }\n",
    "}"
   ]
  },
  {
   "cell_type": "code",
   "execution_count": null,
   "metadata": {},
   "outputs": [],
   "source": [
    "print(router1['hostname'])"
   ]
  },
  {
   "cell_type": "code",
   "execution_count": null,
   "metadata": {},
   "outputs": [],
   "source": [
    "router1['ospf']"
   ]
  },
  {
   "cell_type": "code",
   "execution_count": null,
   "metadata": {},
   "outputs": [],
   "source": [
    "router1['ospf']['area']"
   ]
  },
  {
   "cell_type": "code",
   "execution_count": null,
   "metadata": {},
   "outputs": [],
   "source": [
    "router1['ospf']['area']['interfaces']"
   ]
  },
  {
   "cell_type": "code",
   "execution_count": null,
   "metadata": {},
   "outputs": [],
   "source": [
    "for interface in router1['ospf']['area']['interfaces']:\n",
    "    print(interface)"
   ]
  },
  {
   "cell_type": "code",
   "execution_count": null,
   "metadata": {},
   "outputs": [],
   "source": [
    "for interface in router1.get('ospf').get('area').get('interfaces'):\n",
    "    print(interface)"
   ]
  },
  {
   "cell_type": "code",
   "execution_count": null,
   "metadata": {},
   "outputs": [],
   "source": [
    "for key in router1.keys():\n",
    "    print(key)"
   ]
  }
 ],
 "metadata": {
  "kernelspec": {
   "display_name": "Python 3",
   "language": "python",
   "name": "python3"
  },
  "language_info": {
   "codemirror_mode": {
    "name": "ipython",
    "version": 3
   },
   "file_extension": ".py",
   "mimetype": "text/x-python",
   "name": "python",
   "nbconvert_exporter": "python",
   "pygments_lexer": "ipython3",
   "version": "3.10.6"
  },
  "orig_nbformat": 4
 },
 "nbformat": 4,
 "nbformat_minor": 2
}
